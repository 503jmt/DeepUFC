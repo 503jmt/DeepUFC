{
 "cells": [
  {
   "cell_type": "markdown",
   "metadata": {},
   "source": [
    "In the last post, we have analyzed historical UFC fights and answered interesting questions like what is the most frequently used finishing technique and who won the most fights. Here, we will try to predict the outcomes of future bouts using deep learning and Python and libraries including Pandas, Numpy, and Keras. \n",
    "\n",
    "I have crawled over 4000 UFC fights and the career statistics of over 2000 professional fighters using Scrapy. Let's import them as well as necessary libraries."
   ]
  },
  {
   "cell_type": "code",
   "execution_count": 1,
   "metadata": {},
   "outputs": [
    {
     "name": "stderr",
     "output_type": "stream",
     "text": [
      "Using TensorFlow backend.\n"
     ]
    }
   ],
   "source": [
    "import pandas as pd\n",
    "import numpy as np\n",
    "\n",
    "from sklearn.model_selection import train_test_split\n",
    "from sklearn.preprocessing import StandardScaler\n",
    "\n",
    "from keras.models import Sequential\n",
    "from keras.layers import Dense\n",
    "from keras import regularizers\n",
    "\n",
    "import pydot\n",
    "from IPython.display import SVG\n",
    "from keras.utils.vis_utils import model_to_dot\n",
    "from keras.utils import plot_model\n",
    "\n",
    "%matplotlib inline"
   ]
  },
  {
   "cell_type": "code",
   "execution_count": 2,
   "metadata": {},
   "outputs": [],
   "source": [
    "# read data for fights and fighters\n",
    "matches = pd.read_csv(\"ufc_matches.csv\", index_col = 0)\n",
    "fighters = pd.read_csv(\"ufc_fighters.csv\")"
   ]
  },
  {
   "cell_type": "markdown",
   "metadata": {},
   "source": [
    "Next, We will perform a series of steps to clean up the datasets."
   ]
  },
  {
   "cell_type": "code",
   "execution_count": 3,
   "metadata": {},
   "outputs": [
    {
     "data": {
      "text/html": [
       "<div>\n",
       "<style>\n",
       "    .dataframe thead tr:only-child th {\n",
       "        text-align: right;\n",
       "    }\n",
       "\n",
       "    .dataframe thead th {\n",
       "        text-align: left;\n",
       "    }\n",
       "\n",
       "    .dataframe tbody tr th {\n",
       "        vertical-align: top;\n",
       "    }\n",
       "</style>\n",
       "<table border=\"1\" class=\"dataframe\">\n",
       "  <thead>\n",
       "    <tr style=\"text-align: right;\">\n",
       "      <th></th>\n",
       "      <th>fighter_id</th>\n",
       "      <th>name</th>\n",
       "      <th>win</th>\n",
       "      <th>lose</th>\n",
       "      <th>draw</th>\n",
       "      <th>nc</th>\n",
       "      <th>height</th>\n",
       "      <th>weight</th>\n",
       "      <th>reach</th>\n",
       "      <th>stance</th>\n",
       "      <th>dob</th>\n",
       "      <th>SLpM</th>\n",
       "      <th>Str_Acc</th>\n",
       "      <th>SApM</th>\n",
       "      <th>Str_Def</th>\n",
       "      <th>TD_Avg</th>\n",
       "      <th>TD_Acc</th>\n",
       "      <th>TD_Def</th>\n",
       "      <th>Sub_Avg</th>\n",
       "      <th>last_updated</th>\n",
       "    </tr>\n",
       "  </thead>\n",
       "  <tbody>\n",
       "    <tr>\n",
       "      <th>483</th>\n",
       "      <td>483</td>\n",
       "      <td>Michael McDonald</td>\n",
       "      <td>17</td>\n",
       "      <td>4</td>\n",
       "      <td>0</td>\n",
       "      <td>0</td>\n",
       "      <td>5' 9\"</td>\n",
       "      <td>135 lbs.</td>\n",
       "      <td>70\"</td>\n",
       "      <td>Orthodox</td>\n",
       "      <td>Jan 15, 1991</td>\n",
       "      <td>2.69</td>\n",
       "      <td>42%</td>\n",
       "      <td>2.76</td>\n",
       "      <td>57%</td>\n",
       "      <td>1.09</td>\n",
       "      <td>66%</td>\n",
       "      <td>52%</td>\n",
       "      <td>1.4</td>\n",
       "      <td>2017-12-09 13:22:27.990019</td>\n",
       "    </tr>\n",
       "    <tr>\n",
       "      <th>485</th>\n",
       "      <td>485</td>\n",
       "      <td>Michael McDonald</td>\n",
       "      <td>1</td>\n",
       "      <td>1</td>\n",
       "      <td>0</td>\n",
       "      <td>0</td>\n",
       "      <td>5' 11\"</td>\n",
       "      <td>205 lbs.</td>\n",
       "      <td>NaN</td>\n",
       "      <td>Orthodox</td>\n",
       "      <td>Feb 06, 1965</td>\n",
       "      <td>0.00</td>\n",
       "      <td>0%</td>\n",
       "      <td>0.40</td>\n",
       "      <td>50%</td>\n",
       "      <td>0.00</td>\n",
       "      <td>0%</td>\n",
       "      <td>0%</td>\n",
       "      <td>0.0</td>\n",
       "      <td>2017-12-09 13:22:31.671276</td>\n",
       "    </tr>\n",
       "    <tr>\n",
       "      <th>800</th>\n",
       "      <td>801</td>\n",
       "      <td>Dong Hyun Kim</td>\n",
       "      <td>15</td>\n",
       "      <td>8</td>\n",
       "      <td>3</td>\n",
       "      <td>0</td>\n",
       "      <td>5' 11\"</td>\n",
       "      <td>155 lbs.</td>\n",
       "      <td>70\"</td>\n",
       "      <td>Orthodox</td>\n",
       "      <td>Sep 09, 1988</td>\n",
       "      <td>3.50</td>\n",
       "      <td>46%</td>\n",
       "      <td>5.10</td>\n",
       "      <td>50%</td>\n",
       "      <td>2.32</td>\n",
       "      <td>60%</td>\n",
       "      <td>33%</td>\n",
       "      <td>0.0</td>\n",
       "      <td>2017-12-09 13:35:18.657568</td>\n",
       "    </tr>\n",
       "    <tr>\n",
       "      <th>807</th>\n",
       "      <td>808</td>\n",
       "      <td>Dong Hyun Kim</td>\n",
       "      <td>22</td>\n",
       "      <td>4</td>\n",
       "      <td>1</td>\n",
       "      <td>1</td>\n",
       "      <td>6' 2\"</td>\n",
       "      <td>170 lbs.</td>\n",
       "      <td>76\"</td>\n",
       "      <td>Southpaw</td>\n",
       "      <td>Nov 17, 1981</td>\n",
       "      <td>2.12</td>\n",
       "      <td>49%</td>\n",
       "      <td>1.89</td>\n",
       "      <td>58%</td>\n",
       "      <td>2.93</td>\n",
       "      <td>43%</td>\n",
       "      <td>71%</td>\n",
       "      <td>0.6</td>\n",
       "      <td>2017-12-09 13:35:36.528188</td>\n",
       "    </tr>\n",
       "    <tr>\n",
       "      <th>895</th>\n",
       "      <td>895</td>\n",
       "      <td>Tony Johnson</td>\n",
       "      <td>11</td>\n",
       "      <td>3</td>\n",
       "      <td>0</td>\n",
       "      <td>0</td>\n",
       "      <td>6' 1\"</td>\n",
       "      <td>265 lbs.</td>\n",
       "      <td>NaN</td>\n",
       "      <td>NaN</td>\n",
       "      <td>NaN</td>\n",
       "      <td>2.00</td>\n",
       "      <td>53%</td>\n",
       "      <td>4.73</td>\n",
       "      <td>31%</td>\n",
       "      <td>2.00</td>\n",
       "      <td>22%</td>\n",
       "      <td>0%</td>\n",
       "      <td>0.0</td>\n",
       "      <td>2017-12-09 13:39:11.514317</td>\n",
       "    </tr>\n",
       "    <tr>\n",
       "      <th>903</th>\n",
       "      <td>903</td>\n",
       "      <td>Tony Johnson</td>\n",
       "      <td>4</td>\n",
       "      <td>2</td>\n",
       "      <td>0</td>\n",
       "      <td>0</td>\n",
       "      <td>NaN</td>\n",
       "      <td>185 lbs.</td>\n",
       "      <td>NaN</td>\n",
       "      <td>NaN</td>\n",
       "      <td>NaN</td>\n",
       "      <td>0.00</td>\n",
       "      <td>0%</td>\n",
       "      <td>0.00</td>\n",
       "      <td>0%</td>\n",
       "      <td>0.00</td>\n",
       "      <td>0%</td>\n",
       "      <td>0%</td>\n",
       "      <td>0.0</td>\n",
       "      <td>2017-12-09 13:39:29.729654</td>\n",
       "    </tr>\n",
       "  </tbody>\n",
       "</table>\n",
       "</div>"
      ],
      "text/plain": [
       "     fighter_id              name  win  lose  draw  nc  height    weight  \\\n",
       "483         483  Michael McDonald   17     4     0   0   5' 9\"  135 lbs.   \n",
       "485         485  Michael McDonald    1     1     0   0  5' 11\"  205 lbs.   \n",
       "800         801     Dong Hyun Kim   15     8     3   0  5' 11\"  155 lbs.   \n",
       "807         808     Dong Hyun Kim   22     4     1   1   6' 2\"  170 lbs.   \n",
       "895         895      Tony Johnson   11     3     0   0   6' 1\"  265 lbs.   \n",
       "903         903      Tony Johnson    4     2     0   0     NaN  185 lbs.   \n",
       "\n",
       "    reach    stance           dob  SLpM Str_Acc  SApM Str_Def  TD_Avg TD_Acc  \\\n",
       "483   70\"  Orthodox  Jan 15, 1991  2.69     42%  2.76     57%    1.09    66%   \n",
       "485   NaN  Orthodox  Feb 06, 1965  0.00      0%  0.40     50%    0.00     0%   \n",
       "800   70\"  Orthodox  Sep 09, 1988  3.50     46%  5.10     50%    2.32    60%   \n",
       "807   76\"  Southpaw  Nov 17, 1981  2.12     49%  1.89     58%    2.93    43%   \n",
       "895   NaN       NaN           NaN  2.00     53%  4.73     31%    2.00    22%   \n",
       "903   NaN       NaN           NaN  0.00      0%  0.00      0%    0.00     0%   \n",
       "\n",
       "    TD_Def  Sub_Avg                last_updated  \n",
       "483    52%      1.4  2017-12-09 13:22:27.990019  \n",
       "485     0%      0.0  2017-12-09 13:22:31.671276  \n",
       "800    33%      0.0  2017-12-09 13:35:18.657568  \n",
       "807    71%      0.6  2017-12-09 13:35:36.528188  \n",
       "895     0%      0.0  2017-12-09 13:39:11.514317  \n",
       "903     0%      0.0  2017-12-09 13:39:29.729654  "
      ]
     },
     "execution_count": 3,
     "metadata": {},
     "output_type": "execute_result"
    }
   ],
   "source": [
    "# check if there are fighters with the same name\n",
    "fighters[fighters.duplicated(subset=\"name\", keep=False)]"
   ]
  },
  {
   "cell_type": "markdown",
   "metadata": {},
   "source": [
    "As we can see, there are several fighters with the same names. We will just need to name one of them differently."
   ]
  },
  {
   "cell_type": "code",
   "execution_count": 4,
   "metadata": {
    "collapsed": true
   },
   "outputs": [],
   "source": [
    "# note that we got two Michael McDonalds, Dong Hyun Kims, and Tony Johnsons\n",
    "# Fortunately, they belong to different weight classes\n",
    "fighters.iloc[485, 1] = \"Michael McDonald 205\"\n",
    "fighters.iloc[800, 1] = \"Dong Hyun Kim 155\"\n",
    "fighters.iloc[903, 1] = \"Tony Johnson 185\""
   ]
  },
  {
   "cell_type": "code",
   "execution_count": 5,
   "metadata": {},
   "outputs": [],
   "source": [
    "# use fighter names as index\n",
    "fighters.drop(\"fighter_id\", axis=1, inplace=True)\n",
    "fighters.set_index(\"name\", inplace=True)"
   ]
  },
  {
   "cell_type": "markdown",
   "metadata": {},
   "source": [
    "Some fighters do not have statistics available, so we will remove those fighters."
   ]
  },
  {
   "cell_type": "code",
   "execution_count": 6,
   "metadata": {},
   "outputs": [],
   "source": [
    "# clean up dataset, if all the eight indicators are zeros\n",
    "# it means that there is no statistics for that fighter\n",
    "fighers_clean = fighters.loc[~((fighters[\"SLpM\"] == 0) &\n",
    "                               (fighters[\"Str_Acc\"] == \"0%\") & \n",
    "                               (fighters[\"SApM\"] == 0) &\n",
    "                               (fighters[\"Str_Def\"] == \"0%\") &\n",
    "                               (fighters[\"TD_Avg\"] == 0) &\n",
    "                               (fighters[\"TD_Acc\"] == \"0%\") &\n",
    "                               (fighters[\"TD_Def\"] == \"0%\") &\n",
    "                               (fighters[\"Sub_Avg\"] == 0))].copy()                        "
   ]
  },
  {
   "cell_type": "code",
   "execution_count": 7,
   "metadata": {},
   "outputs": [
    {
     "name": "stdout",
     "output_type": "stream",
     "text": [
      "3009 fighers in total, after clean up: 2398 fighers\n"
     ]
    }
   ],
   "source": [
    "print(\"{0} fighers in total, after clean up: {1} fighers\".format(len(fighters), len(fighers_clean)))"
   ]
  },
  {
   "cell_type": "markdown",
   "metadata": {},
   "source": [
    "So what should we use for predictions? Here, I chose to use 9 indicators including:\n",
    "\n",
    "* SLpM - Significant Strikes Landed per Minute\n",
    "* Str_Acc - Significant Striking Accuracy\n",
    "* SApM - Significant Strikes Absorbed per Minute\n",
    "* Str_Def - Significant Strike Defence (the % of opponents strikes that did not land)\n",
    "* TD_Avg - Average Takedowns Landed per 15 minutes\n",
    "* TD_Acc - Takedown Accuracy\n",
    "* TD_Def - Takedown Defense (the % of opponents TD attempts that did not land)\n",
    "* Sub_Avg - Average Submissions Attempted per 15 minutes\n",
    "* win% - Winning percentages"
   ]
  },
  {
   "cell_type": "code",
   "execution_count": 8,
   "metadata": {},
   "outputs": [],
   "source": [
    "# add winning percentages\n",
    "fighers_clean[\"win%\"] = (fighers_clean[\"win\"] / (fighers_clean[\"win\"] +\n",
    "                                                 fighers_clean[\"lose\"] +\n",
    "                                                 fighers_clean[\"draw\"] +\n",
    "                                                 fighers_clean[\"nc\"]))\n",
    "# change datatypes\n",
    "percentages = [\"Str_Acc\", \"Str_Def\", \"TD_Acc\", \"TD_Def\"]\n",
    "statistics = [\"SLpM\", \"Str_Acc\", \"SApM\", \"Str_Def\", \"TD_Avg\", \"TD_Acc\", \"TD_Def\", \"Sub_Avg\", \"win%\"]\n",
    "\n",
    "fighers_clean.loc[:, percentages] = fighers_clean.loc[:, percentages].applymap(\n",
    "    lambda x: x.replace(\"%\", \"\"))\n",
    "\n",
    "fighers_clean.loc[:, statistics] = fighers_clean.loc[:, statistics].astype(np.float32)"
   ]
  },
  {
   "cell_type": "code",
   "execution_count": 9,
   "metadata": {},
   "outputs": [],
   "source": [
    "# remove other columns\n",
    "fighers_clean = fighers_clean[statistics]"
   ]
  },
  {
   "cell_type": "code",
   "execution_count": 10,
   "metadata": {},
   "outputs": [
    {
     "data": {
      "text/plain": [
       "False"
      ]
     },
     "execution_count": 10,
     "metadata": {},
     "output_type": "execute_result"
    }
   ],
   "source": [
    "# make sure no missing values\n",
    "fighers_clean.isnull().values.any()"
   ]
  },
  {
   "cell_type": "markdown",
   "metadata": {},
   "source": [
    "Let's take a look at the fighters dataset that is ready to go."
   ]
  },
  {
   "cell_type": "code",
   "execution_count": 11,
   "metadata": {},
   "outputs": [
    {
     "data": {
      "text/html": [
       "<div>\n",
       "<style>\n",
       "    .dataframe thead tr:only-child th {\n",
       "        text-align: right;\n",
       "    }\n",
       "\n",
       "    .dataframe thead th {\n",
       "        text-align: left;\n",
       "    }\n",
       "\n",
       "    .dataframe tbody tr th {\n",
       "        vertical-align: top;\n",
       "    }\n",
       "</style>\n",
       "<table border=\"1\" class=\"dataframe\">\n",
       "  <thead>\n",
       "    <tr style=\"text-align: right;\">\n",
       "      <th></th>\n",
       "      <th>SLpM</th>\n",
       "      <th>Str_Acc</th>\n",
       "      <th>SApM</th>\n",
       "      <th>Str_Def</th>\n",
       "      <th>TD_Avg</th>\n",
       "      <th>TD_Acc</th>\n",
       "      <th>TD_Def</th>\n",
       "      <th>Sub_Avg</th>\n",
       "      <th>win%</th>\n",
       "    </tr>\n",
       "    <tr>\n",
       "      <th>name</th>\n",
       "      <th></th>\n",
       "      <th></th>\n",
       "      <th></th>\n",
       "      <th></th>\n",
       "      <th></th>\n",
       "      <th></th>\n",
       "      <th></th>\n",
       "      <th></th>\n",
       "      <th></th>\n",
       "    </tr>\n",
       "  </thead>\n",
       "  <tbody>\n",
       "    <tr>\n",
       "      <th>Sergio Pettis</th>\n",
       "      <td>3.62</td>\n",
       "      <td>36.0</td>\n",
       "      <td>2.56</td>\n",
       "      <td>66.0</td>\n",
       "      <td>1.09</td>\n",
       "      <td>39.0</td>\n",
       "      <td>64.0</td>\n",
       "      <td>0.5</td>\n",
       "      <td>0.842105</td>\n",
       "    </tr>\n",
       "    <tr>\n",
       "      <th>Mark Hunt</th>\n",
       "      <td>3.03</td>\n",
       "      <td>44.0</td>\n",
       "      <td>2.83</td>\n",
       "      <td>51.0</td>\n",
       "      <td>0.57</td>\n",
       "      <td>55.0</td>\n",
       "      <td>68.0</td>\n",
       "      <td>0.2</td>\n",
       "      <td>0.500000</td>\n",
       "    </tr>\n",
       "    <tr>\n",
       "      <th>Rob Emerson</th>\n",
       "      <td>2.50</td>\n",
       "      <td>30.0</td>\n",
       "      <td>2.83</td>\n",
       "      <td>64.0</td>\n",
       "      <td>2.02</td>\n",
       "      <td>52.0</td>\n",
       "      <td>65.0</td>\n",
       "      <td>0.4</td>\n",
       "      <td>0.500000</td>\n",
       "    </tr>\n",
       "    <tr>\n",
       "      <th>Marcelo Guimaraes</th>\n",
       "      <td>4.67</td>\n",
       "      <td>51.0</td>\n",
       "      <td>4.41</td>\n",
       "      <td>62.0</td>\n",
       "      <td>1.99</td>\n",
       "      <td>13.0</td>\n",
       "      <td>0.0</td>\n",
       "      <td>0.0</td>\n",
       "      <td>0.750000</td>\n",
       "    </tr>\n",
       "    <tr>\n",
       "      <th>Justin Levens</th>\n",
       "      <td>0.37</td>\n",
       "      <td>20.0</td>\n",
       "      <td>3.49</td>\n",
       "      <td>40.0</td>\n",
       "      <td>0.00</td>\n",
       "      <td>0.0</td>\n",
       "      <td>33.0</td>\n",
       "      <td>2.8</td>\n",
       "      <td>0.529412</td>\n",
       "    </tr>\n",
       "    <tr>\n",
       "      <th>Kenji Arai</th>\n",
       "      <td>8.79</td>\n",
       "      <td>27.0</td>\n",
       "      <td>10.29</td>\n",
       "      <td>39.0</td>\n",
       "      <td>0.00</td>\n",
       "      <td>0.0</td>\n",
       "      <td>0.0</td>\n",
       "      <td>0.0</td>\n",
       "      <td>0.428571</td>\n",
       "    </tr>\n",
       "    <tr>\n",
       "      <th>Frank Trigg</th>\n",
       "      <td>2.79</td>\n",
       "      <td>46.0</td>\n",
       "      <td>1.90</td>\n",
       "      <td>56.0</td>\n",
       "      <td>2.35</td>\n",
       "      <td>47.0</td>\n",
       "      <td>75.0</td>\n",
       "      <td>0.8</td>\n",
       "      <td>0.700000</td>\n",
       "    </tr>\n",
       "    <tr>\n",
       "      <th>Logan Clark</th>\n",
       "      <td>2.20</td>\n",
       "      <td>54.0</td>\n",
       "      <td>1.49</td>\n",
       "      <td>53.0</td>\n",
       "      <td>0.31</td>\n",
       "      <td>100.0</td>\n",
       "      <td>30.0</td>\n",
       "      <td>2.1</td>\n",
       "      <td>0.750000</td>\n",
       "    </tr>\n",
       "    <tr>\n",
       "      <th>Rameau Thierry Sokoudjou</th>\n",
       "      <td>2.26</td>\n",
       "      <td>45.0</td>\n",
       "      <td>2.61</td>\n",
       "      <td>56.0</td>\n",
       "      <td>1.93</td>\n",
       "      <td>47.0</td>\n",
       "      <td>78.0</td>\n",
       "      <td>0.9</td>\n",
       "      <td>0.545455</td>\n",
       "    </tr>\n",
       "    <tr>\n",
       "      <th>Wesley Correira</th>\n",
       "      <td>2.60</td>\n",
       "      <td>36.0</td>\n",
       "      <td>8.80</td>\n",
       "      <td>40.0</td>\n",
       "      <td>0.00</td>\n",
       "      <td>0.0</td>\n",
       "      <td>90.0</td>\n",
       "      <td>0.0</td>\n",
       "      <td>0.575758</td>\n",
       "    </tr>\n",
       "  </tbody>\n",
       "</table>\n",
       "</div>"
      ],
      "text/plain": [
       "                          SLpM  Str_Acc   SApM  Str_Def  TD_Avg  TD_Acc  \\\n",
       "name                                                                      \n",
       "Sergio Pettis             3.62     36.0   2.56     66.0    1.09    39.0   \n",
       "Mark Hunt                 3.03     44.0   2.83     51.0    0.57    55.0   \n",
       "Rob Emerson               2.50     30.0   2.83     64.0    2.02    52.0   \n",
       "Marcelo Guimaraes         4.67     51.0   4.41     62.0    1.99    13.0   \n",
       "Justin Levens             0.37     20.0   3.49     40.0    0.00     0.0   \n",
       "Kenji Arai                8.79     27.0  10.29     39.0    0.00     0.0   \n",
       "Frank Trigg               2.79     46.0   1.90     56.0    2.35    47.0   \n",
       "Logan Clark               2.20     54.0   1.49     53.0    0.31   100.0   \n",
       "Rameau Thierry Sokoudjou  2.26     45.0   2.61     56.0    1.93    47.0   \n",
       "Wesley Correira           2.60     36.0   8.80     40.0    0.00     0.0   \n",
       "\n",
       "                          TD_Def  Sub_Avg      win%  \n",
       "name                                                 \n",
       "Sergio Pettis               64.0      0.5  0.842105  \n",
       "Mark Hunt                   68.0      0.2  0.500000  \n",
       "Rob Emerson                 65.0      0.4  0.500000  \n",
       "Marcelo Guimaraes            0.0      0.0  0.750000  \n",
       "Justin Levens               33.0      2.8  0.529412  \n",
       "Kenji Arai                   0.0      0.0  0.428571  \n",
       "Frank Trigg                 75.0      0.8  0.700000  \n",
       "Logan Clark                 30.0      2.1  0.750000  \n",
       "Rameau Thierry Sokoudjou    78.0      0.9  0.545455  \n",
       "Wesley Correira             90.0      0.0  0.575758  "
      ]
     },
     "execution_count": 11,
     "metadata": {},
     "output_type": "execute_result"
    }
   ],
   "source": [
    "fighers_clean.sample(10)"
   ]
  },
  {
   "cell_type": "markdown",
   "metadata": {},
   "source": [
    "Now, let's work on the fights dataset."
   ]
  },
  {
   "cell_type": "code",
   "execution_count": 12,
   "metadata": {},
   "outputs": [],
   "source": [
    "# use matches that have a winner, ignore nc, draws\n",
    "matches_clean = matches.loc[matches[\"result\"] == \"win\"].copy()\n",
    "\n",
    "# remove unnecessary columns\n",
    "matches_clean = matches_clean.loc[:, [\"fighter1\", \"fighter2\", \"winner\", \"weight_class\"]]\n",
    "matches_clean.reset_index(drop=True, inplace=True)"
   ]
  },
  {
   "cell_type": "code",
   "execution_count": 13,
   "metadata": {},
   "outputs": [
    {
     "data": {
      "text/plain": [
       "True"
      ]
     },
     "execution_count": 13,
     "metadata": {},
     "output_type": "execute_result"
    }
   ],
   "source": [
    "# note that winner is the same as figher1\n",
    "matches_clean[\"fighter1\"].equals(matches_clean[\"winner\"])"
   ]
  },
  {
   "cell_type": "code",
   "execution_count": 14,
   "metadata": {},
   "outputs": [
    {
     "data": {
      "text/html": [
       "<div>\n",
       "<style>\n",
       "    .dataframe thead tr:only-child th {\n",
       "        text-align: right;\n",
       "    }\n",
       "\n",
       "    .dataframe thead th {\n",
       "        text-align: left;\n",
       "    }\n",
       "\n",
       "    .dataframe tbody tr th {\n",
       "        vertical-align: top;\n",
       "    }\n",
       "</style>\n",
       "<table border=\"1\" class=\"dataframe\">\n",
       "  <thead>\n",
       "    <tr style=\"text-align: right;\">\n",
       "      <th></th>\n",
       "      <th>fighter1</th>\n",
       "      <th>fighter2</th>\n",
       "      <th>winner</th>\n",
       "      <th>weight_class</th>\n",
       "    </tr>\n",
       "  </thead>\n",
       "  <tbody>\n",
       "    <tr>\n",
       "      <th>0</th>\n",
       "      <td>Cub Swanson</td>\n",
       "      <td>Artem Lobov</td>\n",
       "      <td>Cub Swanson</td>\n",
       "      <td>Featherweight</td>\n",
       "    </tr>\n",
       "    <tr>\n",
       "      <th>1</th>\n",
       "      <td>Al Iaquinta</td>\n",
       "      <td>Diego Sanchez</td>\n",
       "      <td>Al Iaquinta</td>\n",
       "      <td>Lightweight</td>\n",
       "    </tr>\n",
       "    <tr>\n",
       "      <th>2</th>\n",
       "      <td>Ovince Saint Preux</td>\n",
       "      <td>Marcos Rogerio de Lima</td>\n",
       "      <td>Ovince Saint Preux</td>\n",
       "      <td>Light Heavyweight</td>\n",
       "    </tr>\n",
       "    <tr>\n",
       "      <th>3</th>\n",
       "      <td>John Dodson</td>\n",
       "      <td>Eddie Wineland</td>\n",
       "      <td>John Dodson</td>\n",
       "      <td>Bantamweight</td>\n",
       "    </tr>\n",
       "    <tr>\n",
       "      <th>4</th>\n",
       "      <td>Stevie Ray</td>\n",
       "      <td>Joe Lauzon</td>\n",
       "      <td>Stevie Ray</td>\n",
       "      <td>Lightweight</td>\n",
       "    </tr>\n",
       "    <tr>\n",
       "      <th>5</th>\n",
       "      <td>Mike Perry</td>\n",
       "      <td>Jake Ellenberger</td>\n",
       "      <td>Mike Perry</td>\n",
       "      <td>Welterweight</td>\n",
       "    </tr>\n",
       "    <tr>\n",
       "      <th>6</th>\n",
       "      <td>Thales Leites</td>\n",
       "      <td>Sam Alvey</td>\n",
       "      <td>Thales Leites</td>\n",
       "      <td>Middleweight</td>\n",
       "    </tr>\n",
       "    <tr>\n",
       "      <th>7</th>\n",
       "      <td>Brandon Moreno</td>\n",
       "      <td>Dustin Ortiz</td>\n",
       "      <td>Brandon Moreno</td>\n",
       "      <td>Flyweight</td>\n",
       "    </tr>\n",
       "    <tr>\n",
       "      <th>8</th>\n",
       "      <td>Scott Holtzman</td>\n",
       "      <td>Michael McBride</td>\n",
       "      <td>Scott Holtzman</td>\n",
       "      <td>Lightweight</td>\n",
       "    </tr>\n",
       "    <tr>\n",
       "      <th>9</th>\n",
       "      <td>Danielle Taylor</td>\n",
       "      <td>Jessica Penne</td>\n",
       "      <td>Danielle Taylor</td>\n",
       "      <td>Women's Strawweight</td>\n",
       "    </tr>\n",
       "  </tbody>\n",
       "</table>\n",
       "</div>"
      ],
      "text/plain": [
       "             fighter1                fighter2              winner  \\\n",
       "0         Cub Swanson             Artem Lobov         Cub Swanson   \n",
       "1         Al Iaquinta           Diego Sanchez         Al Iaquinta   \n",
       "2  Ovince Saint Preux  Marcos Rogerio de Lima  Ovince Saint Preux   \n",
       "3         John Dodson          Eddie Wineland         John Dodson   \n",
       "4          Stevie Ray              Joe Lauzon          Stevie Ray   \n",
       "5          Mike Perry        Jake Ellenberger          Mike Perry   \n",
       "6       Thales Leites               Sam Alvey       Thales Leites   \n",
       "7      Brandon Moreno            Dustin Ortiz      Brandon Moreno   \n",
       "8      Scott Holtzman         Michael McBride      Scott Holtzman   \n",
       "9     Danielle Taylor           Jessica Penne     Danielle Taylor   \n",
       "\n",
       "          weight_class  \n",
       "0        Featherweight  \n",
       "1          Lightweight  \n",
       "2    Light Heavyweight  \n",
       "3         Bantamweight  \n",
       "4          Lightweight  \n",
       "5         Welterweight  \n",
       "6         Middleweight  \n",
       "7            Flyweight  \n",
       "8          Lightweight  \n",
       "9  Women's Strawweight  "
      ]
     },
     "execution_count": 14,
     "metadata": {},
     "output_type": "execute_result"
    }
   ],
   "source": [
    "matches_clean.head(10)"
   ]
  },
  {
   "cell_type": "markdown",
   "metadata": {},
   "source": [
    "Since in the original dataset, the winner is always treated as fighter 1, we will need to randomly swap fighter1 and fighter2 for half of the dataset in order to make the predictions work."
   ]
  },
  {
   "cell_type": "code",
   "execution_count": 15,
   "metadata": {},
   "outputs": [],
   "source": [
    "# randomly swap figher1 and fighter2 for about half of the matches\n",
    "swap_indices = np.random.choice(len(matches_clean), size = int(len(matches_clean) / 2), replace = False)\n",
    "matches_clean.iloc[swap_indices, [0, 1]] = matches_clean.iloc[swap_indices, [1, 0]].values"
   ]
  },
  {
   "cell_type": "code",
   "execution_count": 16,
   "metadata": {},
   "outputs": [
    {
     "data": {
      "text/html": [
       "<div>\n",
       "<style>\n",
       "    .dataframe thead tr:only-child th {\n",
       "        text-align: right;\n",
       "    }\n",
       "\n",
       "    .dataframe thead th {\n",
       "        text-align: left;\n",
       "    }\n",
       "\n",
       "    .dataframe tbody tr th {\n",
       "        vertical-align: top;\n",
       "    }\n",
       "</style>\n",
       "<table border=\"1\" class=\"dataframe\">\n",
       "  <thead>\n",
       "    <tr style=\"text-align: right;\">\n",
       "      <th></th>\n",
       "      <th>fighter1</th>\n",
       "      <th>fighter2</th>\n",
       "      <th>winner</th>\n",
       "      <th>weight_class</th>\n",
       "    </tr>\n",
       "  </thead>\n",
       "  <tbody>\n",
       "    <tr>\n",
       "      <th>0</th>\n",
       "      <td>Cub Swanson</td>\n",
       "      <td>Artem Lobov</td>\n",
       "      <td>Cub Swanson</td>\n",
       "      <td>Featherweight</td>\n",
       "    </tr>\n",
       "    <tr>\n",
       "      <th>1</th>\n",
       "      <td>Diego Sanchez</td>\n",
       "      <td>Al Iaquinta</td>\n",
       "      <td>Al Iaquinta</td>\n",
       "      <td>Lightweight</td>\n",
       "    </tr>\n",
       "    <tr>\n",
       "      <th>2</th>\n",
       "      <td>Marcos Rogerio de Lima</td>\n",
       "      <td>Ovince Saint Preux</td>\n",
       "      <td>Ovince Saint Preux</td>\n",
       "      <td>Light Heavyweight</td>\n",
       "    </tr>\n",
       "    <tr>\n",
       "      <th>3</th>\n",
       "      <td>Eddie Wineland</td>\n",
       "      <td>John Dodson</td>\n",
       "      <td>John Dodson</td>\n",
       "      <td>Bantamweight</td>\n",
       "    </tr>\n",
       "    <tr>\n",
       "      <th>4</th>\n",
       "      <td>Joe Lauzon</td>\n",
       "      <td>Stevie Ray</td>\n",
       "      <td>Stevie Ray</td>\n",
       "      <td>Lightweight</td>\n",
       "    </tr>\n",
       "    <tr>\n",
       "      <th>5</th>\n",
       "      <td>Mike Perry</td>\n",
       "      <td>Jake Ellenberger</td>\n",
       "      <td>Mike Perry</td>\n",
       "      <td>Welterweight</td>\n",
       "    </tr>\n",
       "    <tr>\n",
       "      <th>6</th>\n",
       "      <td>Sam Alvey</td>\n",
       "      <td>Thales Leites</td>\n",
       "      <td>Thales Leites</td>\n",
       "      <td>Middleweight</td>\n",
       "    </tr>\n",
       "    <tr>\n",
       "      <th>7</th>\n",
       "      <td>Brandon Moreno</td>\n",
       "      <td>Dustin Ortiz</td>\n",
       "      <td>Brandon Moreno</td>\n",
       "      <td>Flyweight</td>\n",
       "    </tr>\n",
       "    <tr>\n",
       "      <th>8</th>\n",
       "      <td>Michael McBride</td>\n",
       "      <td>Scott Holtzman</td>\n",
       "      <td>Scott Holtzman</td>\n",
       "      <td>Lightweight</td>\n",
       "    </tr>\n",
       "    <tr>\n",
       "      <th>9</th>\n",
       "      <td>Danielle Taylor</td>\n",
       "      <td>Jessica Penne</td>\n",
       "      <td>Danielle Taylor</td>\n",
       "      <td>Women's Strawweight</td>\n",
       "    </tr>\n",
       "  </tbody>\n",
       "</table>\n",
       "</div>"
      ],
      "text/plain": [
       "                 fighter1            fighter2              winner  \\\n",
       "0             Cub Swanson         Artem Lobov         Cub Swanson   \n",
       "1           Diego Sanchez         Al Iaquinta         Al Iaquinta   \n",
       "2  Marcos Rogerio de Lima  Ovince Saint Preux  Ovince Saint Preux   \n",
       "3          Eddie Wineland         John Dodson         John Dodson   \n",
       "4              Joe Lauzon          Stevie Ray          Stevie Ray   \n",
       "5              Mike Perry    Jake Ellenberger          Mike Perry   \n",
       "6               Sam Alvey       Thales Leites       Thales Leites   \n",
       "7          Brandon Moreno        Dustin Ortiz      Brandon Moreno   \n",
       "8         Michael McBride      Scott Holtzman      Scott Holtzman   \n",
       "9         Danielle Taylor       Jessica Penne     Danielle Taylor   \n",
       "\n",
       "          weight_class  \n",
       "0        Featherweight  \n",
       "1          Lightweight  \n",
       "2    Light Heavyweight  \n",
       "3         Bantamweight  \n",
       "4          Lightweight  \n",
       "5         Welterweight  \n",
       "6         Middleweight  \n",
       "7            Flyweight  \n",
       "8          Lightweight  \n",
       "9  Women's Strawweight  "
      ]
     },
     "execution_count": 16,
     "metadata": {},
     "output_type": "execute_result"
    }
   ],
   "source": [
    "matches_clean.head(10)"
   ]
  },
  {
   "cell_type": "markdown",
   "metadata": {},
   "source": [
    "Again, handel fighters with the same names."
   ]
  },
  {
   "cell_type": "code",
   "execution_count": 17,
   "metadata": {
    "collapsed": true
   },
   "outputs": [],
   "source": [
    "# handel duplicate names\n",
    "for col in [\"fighter1\", \"fighter2\", \"winner\"]:\n",
    "    matches_clean[col][(matches_clean[col] == \"Michael McDonald\") &\n",
    "                       (matches_clean[\"weight_class\"] == \"Light Heavyweight\")] = \"Michael McDonald 205\"\n",
    "    \n",
    "    matches_clean[col][(matches_clean[col] == \"Dong Hyun Kim\") &\n",
    "                       (matches_clean[\"weight_class\"] == \"Lightweight\")] = \"Dong Hyun Kim 155\"\n",
    "    \n",
    "    matches_clean[col][(matches_clean[col] == \"Tony Johnson\") &\n",
    "                       (matches_clean[\"weight_class\"] == \"Middleweight\")] = \"Tony Johnson 185\""
   ]
  },
  {
   "cell_type": "markdown",
   "metadata": {},
   "source": [
    "Continue clearning up the dataset."
   ]
  },
  {
   "cell_type": "code",
   "execution_count": 18,
   "metadata": {},
   "outputs": [],
   "source": [
    "# remove weight_class column\n",
    "matches_clean.drop(\"weight_class\", axis=1, inplace=True)\n",
    "\n",
    "# binary results\n",
    "matches_clean[\"result\"] = (matches_clean[\"winner\"] == matches_clean[\"fighter1\"]).astype(\"int\")\n",
    "matches_clean.drop(\"winner\", axis=1, inplace=True)"
   ]
  },
  {
   "cell_type": "markdown",
   "metadata": {},
   "source": [
    "Next, we need to fuse these two datasets together."
   ]
  },
  {
   "cell_type": "code",
   "execution_count": 19,
   "metadata": {},
   "outputs": [],
   "source": [
    "# make sure all fighters are in the figher database\n",
    "# otherwise remove the corresponding match\n",
    "all_fighter_names = fighers_clean.index.values.tolist()\n",
    "\n",
    "matches_clean = matches_clean.loc[(matches_clean[\"fighter1\"].isin(all_fighter_names)) &\n",
    "                                  (matches_clean[\"fighter2\"].isin(all_fighter_names))].copy()\n",
    "\n",
    "# use fighter 1 - fighter 2 (the differences) for learning\n",
    "for col in statistics:\n",
    "    matches_clean[col] = matches_clean.apply(\n",
    "        lambda row: fighers_clean.loc[row[\"fighter1\"], col] - fighers_clean.loc[row[\"fighter2\"], col], axis=1)\n",
    "    \n",
    "# drop fighter1 and fighter2 columns\n",
    "matches_clean.drop([\"fighter1\", \"fighter2\"], axis=1, inplace=True)"
   ]
  },
  {
   "cell_type": "markdown",
   "metadata": {},
   "source": [
    "We will take a look at the final dataset that is going to be used for deep learning."
   ]
  },
  {
   "cell_type": "code",
   "execution_count": 20,
   "metadata": {},
   "outputs": [
    {
     "data": {
      "text/html": [
       "<div>\n",
       "<style>\n",
       "    .dataframe thead tr:only-child th {\n",
       "        text-align: right;\n",
       "    }\n",
       "\n",
       "    .dataframe thead th {\n",
       "        text-align: left;\n",
       "    }\n",
       "\n",
       "    .dataframe tbody tr th {\n",
       "        vertical-align: top;\n",
       "    }\n",
       "</style>\n",
       "<table border=\"1\" class=\"dataframe\">\n",
       "  <thead>\n",
       "    <tr style=\"text-align: right;\">\n",
       "      <th></th>\n",
       "      <th>result</th>\n",
       "      <th>SLpM</th>\n",
       "      <th>Str_Acc</th>\n",
       "      <th>SApM</th>\n",
       "      <th>Str_Def</th>\n",
       "      <th>TD_Avg</th>\n",
       "      <th>TD_Acc</th>\n",
       "      <th>TD_Def</th>\n",
       "      <th>Sub_Avg</th>\n",
       "      <th>win%</th>\n",
       "    </tr>\n",
       "  </thead>\n",
       "  <tbody>\n",
       "    <tr>\n",
       "      <th>0</th>\n",
       "      <td>1</td>\n",
       "      <td>0.73</td>\n",
       "      <td>8.0</td>\n",
       "      <td>-1.31</td>\n",
       "      <td>13.0</td>\n",
       "      <td>0.84</td>\n",
       "      <td>27.0</td>\n",
       "      <td>2.0</td>\n",
       "      <td>0.6</td>\n",
       "      <td>0.314583</td>\n",
       "    </tr>\n",
       "    <tr>\n",
       "      <th>1</th>\n",
       "      <td>0</td>\n",
       "      <td>-2.20</td>\n",
       "      <td>-5.0</td>\n",
       "      <td>-0.71</td>\n",
       "      <td>-7.0</td>\n",
       "      <td>0.24</td>\n",
       "      <td>-8.0</td>\n",
       "      <td>-34.0</td>\n",
       "      <td>0.5</td>\n",
       "      <td>-0.039706</td>\n",
       "    </tr>\n",
       "    <tr>\n",
       "      <th>2</th>\n",
       "      <td>0</td>\n",
       "      <td>1.59</td>\n",
       "      <td>6.0</td>\n",
       "      <td>1.60</td>\n",
       "      <td>4.0</td>\n",
       "      <td>-1.23</td>\n",
       "      <td>-48.0</td>\n",
       "      <td>-26.0</td>\n",
       "      <td>0.7</td>\n",
       "      <td>-0.005682</td>\n",
       "    </tr>\n",
       "    <tr>\n",
       "      <th>3</th>\n",
       "      <td>0</td>\n",
       "      <td>-0.07</td>\n",
       "      <td>-13.0</td>\n",
       "      <td>0.17</td>\n",
       "      <td>6.0</td>\n",
       "      <td>-0.52</td>\n",
       "      <td>2.0</td>\n",
       "      <td>2.0</td>\n",
       "      <td>0.2</td>\n",
       "      <td>-0.050766</td>\n",
       "    </tr>\n",
       "    <tr>\n",
       "      <th>4</th>\n",
       "      <td>0</td>\n",
       "      <td>-0.96</td>\n",
       "      <td>-7.0</td>\n",
       "      <td>2.73</td>\n",
       "      <td>-2.0</td>\n",
       "      <td>2.05</td>\n",
       "      <td>6.0</td>\n",
       "      <td>-2.0</td>\n",
       "      <td>1.4</td>\n",
       "      <td>-0.107143</td>\n",
       "    </tr>\n",
       "  </tbody>\n",
       "</table>\n",
       "</div>"
      ],
      "text/plain": [
       "   result  SLpM  Str_Acc  SApM  Str_Def  TD_Avg  TD_Acc  TD_Def  Sub_Avg  \\\n",
       "0       1  0.73      8.0 -1.31     13.0    0.84    27.0     2.0      0.6   \n",
       "1       0 -2.20     -5.0 -0.71     -7.0    0.24    -8.0   -34.0      0.5   \n",
       "2       0  1.59      6.0  1.60      4.0   -1.23   -48.0   -26.0      0.7   \n",
       "3       0 -0.07    -13.0  0.17      6.0   -0.52     2.0     2.0      0.2   \n",
       "4       0 -0.96     -7.0  2.73     -2.0    2.05     6.0    -2.0      1.4   \n",
       "\n",
       "       win%  \n",
       "0  0.314583  \n",
       "1 -0.039706  \n",
       "2 -0.005682  \n",
       "3 -0.050766  \n",
       "4 -0.107143  "
      ]
     },
     "execution_count": 20,
     "metadata": {},
     "output_type": "execute_result"
    }
   ],
   "source": [
    "matches_clean.head()"
   ]
  },
  {
   "cell_type": "markdown",
   "metadata": {},
   "source": [
    "Split the dataset as train and test sets, and perform normalization."
   ]
  },
  {
   "cell_type": "code",
   "execution_count": 21,
   "metadata": {
    "collapsed": true
   },
   "outputs": [],
   "source": [
    "# get ready for deep learning\n",
    "X, y = matches_clean.iloc[:, 1:], matches_clean.iloc[:, 0]\n",
    "X_train, X_test, y_train, y_test = train_test_split(X, y, test_size=0.2, random_state=0)\n",
    "\n",
    "# normalization\n",
    "scaler = StandardScaler()\n",
    "X_train_scaled = scaler.fit_transform(X_train)\n",
    "X_test_scaled = scaler.transform(X_test)"
   ]
  },
  {
   "cell_type": "markdown",
   "metadata": {},
   "source": [
    "Build a neural network with 1 input layer and 5 full-connected layers, and Keras makes everything easy."
   ]
  },
  {
   "cell_type": "code",
   "execution_count": 22,
   "metadata": {},
   "outputs": [],
   "source": [
    "model = Sequential()\n",
    "\n",
    "model.add(Dense(16, input_dim=X_train_scaled.shape[1],\n",
    "                activation='relu', kernel_regularizer=regularizers.l2(0.01)))\n",
    "model.add(Dense(32, activation='relu', kernel_regularizer=regularizers.l2(0.01)))\n",
    "model.add(Dense(32, activation='relu', kernel_regularizer=regularizers.l2(0.01)))\n",
    "model.add(Dense(16, activation='relu', kernel_regularizer=regularizers.l2(0.01)))\n",
    "model.add(Dense(1, activation='sigmoid'))\n",
    "model.compile(loss='binary_crossentropy', optimizer='Adam', metrics=['accuracy'])"
   ]
  },
  {
   "cell_type": "markdown",
   "metadata": {},
   "source": [
    "We can even see a graph representation of our neural network."
   ]
  },
  {
   "cell_type": "code",
   "execution_count": 23,
   "metadata": {},
   "outputs": [
    {
     "data": {
      "image/svg+xml": [
       "<svg height=\"410pt\" viewBox=\"0.00 0.00 175.24 410.00\" width=\"175pt\" xmlns=\"http://www.w3.org/2000/svg\" xmlns:xlink=\"http://www.w3.org/1999/xlink\">\n",
       "<g class=\"graph\" id=\"graph0\" transform=\"scale(1 1) rotate(0) translate(4 406)\">\n",
       "<title>G</title>\n",
       "<polygon fill=\"white\" points=\"-4,4 -4,-406 171.238,-406 171.238,4 -4,4\" stroke=\"none\"/>\n",
       "<!-- 4793316408 -->\n",
       "<g class=\"node\" id=\"node1\"><title>4793316408</title>\n",
       "<polygon fill=\"none\" points=\"0,-365.5 0,-401.5 167.238,-401.5 167.238,-365.5 0,-365.5\" stroke=\"black\"/>\n",
       "<text font-family=\"Times,serif\" font-size=\"14.00\" text-anchor=\"middle\" x=\"83.6191\" y=\"-379.3\">dense_1_input: InputLayer</text>\n",
       "</g>\n",
       "<!-- 4512909184 -->\n",
       "<g class=\"node\" id=\"node2\"><title>4512909184</title>\n",
       "<polygon fill=\"none\" points=\"31.4932,-292.5 31.4932,-328.5 135.745,-328.5 135.745,-292.5 31.4932,-292.5\" stroke=\"black\"/>\n",
       "<text font-family=\"Times,serif\" font-size=\"14.00\" text-anchor=\"middle\" x=\"83.6191\" y=\"-306.3\">dense_1: Dense</text>\n",
       "</g>\n",
       "<!-- 4793316408&#45;&gt;4512909184 -->\n",
       "<g class=\"edge\" id=\"edge1\"><title>4793316408-&gt;4512909184</title>\n",
       "<path d=\"M83.6191,-365.313C83.6191,-357.289 83.6191,-347.547 83.6191,-338.569\" fill=\"none\" stroke=\"black\"/>\n",
       "<polygon fill=\"black\" points=\"87.1192,-338.529 83.6191,-328.529 80.1192,-338.529 87.1192,-338.529\" stroke=\"black\"/>\n",
       "</g>\n",
       "<!-- 4793316240 -->\n",
       "<g class=\"node\" id=\"node3\"><title>4793316240</title>\n",
       "<polygon fill=\"none\" points=\"31.4932,-219.5 31.4932,-255.5 135.745,-255.5 135.745,-219.5 31.4932,-219.5\" stroke=\"black\"/>\n",
       "<text font-family=\"Times,serif\" font-size=\"14.00\" text-anchor=\"middle\" x=\"83.6191\" y=\"-233.3\">dense_2: Dense</text>\n",
       "</g>\n",
       "<!-- 4512909184&#45;&gt;4793316240 -->\n",
       "<g class=\"edge\" id=\"edge2\"><title>4512909184-&gt;4793316240</title>\n",
       "<path d=\"M83.6191,-292.313C83.6191,-284.289 83.6191,-274.547 83.6191,-265.569\" fill=\"none\" stroke=\"black\"/>\n",
       "<polygon fill=\"black\" points=\"87.1192,-265.529 83.6191,-255.529 80.1192,-265.529 87.1192,-265.529\" stroke=\"black\"/>\n",
       "</g>\n",
       "<!-- 4803628056 -->\n",
       "<g class=\"node\" id=\"node4\"><title>4803628056</title>\n",
       "<polygon fill=\"none\" points=\"31.4932,-146.5 31.4932,-182.5 135.745,-182.5 135.745,-146.5 31.4932,-146.5\" stroke=\"black\"/>\n",
       "<text font-family=\"Times,serif\" font-size=\"14.00\" text-anchor=\"middle\" x=\"83.6191\" y=\"-160.3\">dense_3: Dense</text>\n",
       "</g>\n",
       "<!-- 4793316240&#45;&gt;4803628056 -->\n",
       "<g class=\"edge\" id=\"edge3\"><title>4793316240-&gt;4803628056</title>\n",
       "<path d=\"M83.6191,-219.313C83.6191,-211.289 83.6191,-201.547 83.6191,-192.569\" fill=\"none\" stroke=\"black\"/>\n",
       "<polygon fill=\"black\" points=\"87.1192,-192.529 83.6191,-182.529 80.1192,-192.529 87.1192,-192.529\" stroke=\"black\"/>\n",
       "</g>\n",
       "<!-- 4793465152 -->\n",
       "<g class=\"node\" id=\"node5\"><title>4793465152</title>\n",
       "<polygon fill=\"none\" points=\"31.4932,-73.5 31.4932,-109.5 135.745,-109.5 135.745,-73.5 31.4932,-73.5\" stroke=\"black\"/>\n",
       "<text font-family=\"Times,serif\" font-size=\"14.00\" text-anchor=\"middle\" x=\"83.6191\" y=\"-87.3\">dense_4: Dense</text>\n",
       "</g>\n",
       "<!-- 4803628056&#45;&gt;4793465152 -->\n",
       "<g class=\"edge\" id=\"edge4\"><title>4803628056-&gt;4793465152</title>\n",
       "<path d=\"M83.6191,-146.313C83.6191,-138.289 83.6191,-128.547 83.6191,-119.569\" fill=\"none\" stroke=\"black\"/>\n",
       "<polygon fill=\"black\" points=\"87.1192,-119.529 83.6191,-109.529 80.1192,-119.529 87.1192,-119.529\" stroke=\"black\"/>\n",
       "</g>\n",
       "<!-- 4793489896 -->\n",
       "<g class=\"node\" id=\"node6\"><title>4793489896</title>\n",
       "<polygon fill=\"none\" points=\"31.4932,-0.5 31.4932,-36.5 135.745,-36.5 135.745,-0.5 31.4932,-0.5\" stroke=\"black\"/>\n",
       "<text font-family=\"Times,serif\" font-size=\"14.00\" text-anchor=\"middle\" x=\"83.6191\" y=\"-14.3\">dense_5: Dense</text>\n",
       "</g>\n",
       "<!-- 4793465152&#45;&gt;4793489896 -->\n",
       "<g class=\"edge\" id=\"edge5\"><title>4793465152-&gt;4793489896</title>\n",
       "<path d=\"M83.6191,-73.3129C83.6191,-65.2895 83.6191,-55.5475 83.6191,-46.5691\" fill=\"none\" stroke=\"black\"/>\n",
       "<polygon fill=\"black\" points=\"87.1192,-46.5288 83.6191,-36.5288 80.1192,-46.5289 87.1192,-46.5288\" stroke=\"black\"/>\n",
       "</g>\n",
       "</g>\n",
       "</svg>"
      ],
      "text/plain": [
       "<IPython.core.display.SVG object>"
      ]
     },
     "execution_count": 23,
     "metadata": {},
     "output_type": "execute_result"
    }
   ],
   "source": [
    "SVG(model_to_dot(model).create(prog='dot', format='svg'))"
   ]
  },
  {
   "cell_type": "markdown",
   "metadata": {},
   "source": [
    "Next, we can train the model with the training set and test it with the test set."
   ]
  },
  {
   "cell_type": "code",
   "execution_count": 24,
   "metadata": {},
   "outputs": [
    {
     "name": "stdout",
     "output_type": "stream",
     "text": [
      "Test Accuracy = 0.7202881152460985\n"
     ]
    }
   ],
   "source": [
    "model.fit(x=X_train_scaled, y=y_train, epochs=200, batch_size=64, verbose=0)\n",
    "test_results = model.evaluate(x = X_test_scaled, y = y_test, verbose=0)\n",
    "print(\"Test Accuracy = {}\".format(test_results[1]))"
   ]
  },
  {
   "cell_type": "markdown",
   "metadata": {},
   "source": [
    "So with this model, we achieve an accuracy of 72%. Not too bad!\n",
    "Now is about 7:30pm PST on Dec. 9, 2017 and there is an interesting fight between two featherweights Cub Swanson and Brian Ortega in a few hours.\n",
    "Let's predict it!"
   ]
  },
  {
   "cell_type": "code",
   "execution_count": 25,
   "metadata": {},
   "outputs": [
    {
     "name": "stdout",
     "output_type": "stream",
     "text": [
      "[[ 0.45191047]]\n"
     ]
    }
   ],
   "source": [
    "# function for predictions\n",
    "def predict(model, figher1, figher2):\n",
    "    data1 = fighers_clean.loc[figher1, statistics]\n",
    "    data2 = fighers_clean.loc[figher2, statistics]\n",
    "    data_diff = (data1 - data2).values.reshape(1, -1)\n",
    "    data_diff_scaled = scaler.transform(data_diff)\n",
    "    return model.predict(data_diff_scaled)\n",
    "\n",
    "print(predict(model, \"Cub Swanson\", \"Brian Ortega\"))"
   ]
  },
  {
   "cell_type": "markdown",
   "metadata": {},
   "source": [
    "So we got a probability of 0.45, which means our model predict the fight to be very close and slightly favors Brian Ortega. Let's see what happens in a few hours!"
   ]
  }
 ],
 "metadata": {
  "kernelspec": {
   "display_name": "Python 3",
   "language": "python",
   "name": "python3"
  },
  "language_info": {
   "codemirror_mode": {
    "name": "ipython",
    "version": 3
   },
   "file_extension": ".py",
   "mimetype": "text/x-python",
   "name": "python",
   "nbconvert_exporter": "python",
   "pygments_lexer": "ipython3",
   "version": "3.6.1"
  }
 },
 "nbformat": 4,
 "nbformat_minor": 2
}
